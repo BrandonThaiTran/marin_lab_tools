{
 "cells": [
  {
   "cell_type": "code",
   "execution_count": 1,
   "id": "35ed19b2-277d-478c-b52d-085ba20d15ef",
   "metadata": {},
   "outputs": [],
   "source": [
    "import cv2\n",
    "import numpy as np"
   ]
  },
  {
   "cell_type": "code",
   "execution_count": 2,
   "id": "ecf6a207-4e06-457c-9f2c-d369ffdeabc5",
   "metadata": {},
   "outputs": [],
   "source": [
    "img = cv2.imread('CWL009_S3_2_3.png')"
   ]
  },
  {
   "cell_type": "code",
   "execution_count": 3,
   "id": "d974636f-5ffd-4ca5-af64-e756b208f180",
   "metadata": {},
   "outputs": [],
   "source": [
    "cv2.imshow('image',img)\n",
    "cv2.waitKey(0)\n",
    "cv2.destroyAllWindows()"
   ]
  },
  {
   "cell_type": "code",
   "execution_count": null,
   "id": "ffd94e25-c9b4-4f7f-a949-46a1d3512ebb",
   "metadata": {},
   "outputs": [],
   "source": [
    "img[:,:,0] = 0\n",
    "img[:,:,2] = 0\n",
    "cv2.imshow('image',img)\n",
    "cv2.waitKey(0)\n",
    "cv2.destroyAllWindows()"
   ]
  },
  {
   "cell_type": "code",
   "execution_count": null,
   "id": "9107248b-b429-4910-bc12-9fb66bc7cc0e",
   "metadata": {},
   "outputs": [],
   "source": []
  }
 ],
 "metadata": {
  "kernelspec": {
   "display_name": "Python 3",
   "language": "python",
   "name": "python3"
  },
  "language_info": {
   "codemirror_mode": {
    "name": "ipython",
    "version": 3
   },
   "file_extension": ".py",
   "mimetype": "text/x-python",
   "name": "python",
   "nbconvert_exporter": "python",
   "pygments_lexer": "ipython3",
   "version": "3.8.6"
  }
 },
 "nbformat": 4,
 "nbformat_minor": 5
}
