{
 "cells": [
  {
   "cell_type": "code",
   "execution_count": 1,
   "id": "35ed19b2-277d-478c-b52d-085ba20d15ef",
   "metadata": {},
   "outputs": [],
   "source": [
    "import cv2\n",
    "import numpy as np"
   ]
  },
  {
   "cell_type": "code",
   "execution_count": 2,
   "id": "ecf6a207-4e06-457c-9f2c-d369ffdeabc5",
   "metadata": {},
   "outputs": [],
   "source": [
    "filename = 'CWL009_S3_2_3.png'\n",
    "img = cv2.imread(filename)"
   ]
  },
  {
   "cell_type": "code",
   "execution_count": 3,
   "id": "d8968000-21e8-4325-b609-8ae1773a3715",
   "metadata": {},
   "outputs": [
    {
     "name": "stdout",
     "output_type": "stream",
     "text": [
      "255\n"
     ]
    }
   ],
   "source": [
    "print(np.max(img[:,:,2]))"
   ]
  },
  {
   "cell_type": "code",
   "execution_count": 4,
   "id": "d974636f-5ffd-4ca5-af64-e756b208f180",
   "metadata": {},
   "outputs": [],
   "source": [
    "cv2.imshow('image',img)\n",
    "cv2.waitKey(0)\n",
    "cv2.destroyAllWindows()"
   ]
  },
  {
   "cell_type": "code",
   "execution_count": 5,
   "id": "5f01f645-7070-4b75-99db-ace3d45b0833",
   "metadata": {},
   "outputs": [],
   "source": [
    "# change focus_channel to the channel you want to see in isolation\n",
    "# 0 - Red; 1 - Green; 2 - Blue\n",
    "# You honestly need to just match the color\n",
    "focus_channel = 2"
   ]
  },
  {
   "cell_type": "code",
   "execution_count": 6,
   "id": "ffd94e25-c9b4-4f7f-a949-46a1d3512ebb",
   "metadata": {},
   "outputs": [
    {
     "name": "stdout",
     "output_type": "stream",
     "text": [
      "0\n",
      "in if  0\n",
      "1\n",
      "in if  1\n",
      "2\n"
     ]
    }
   ],
   "source": [
    "for i in range(3):\n",
    "    if i != focus_channel:\n",
    "        img[:,:,i] = 0\n",
    "cv2.imshow('image',img)\n",
    "cv2.waitKey(0)\n",
    "cv2.destroyAllWindows()"
   ]
  },
  {
   "cell_type": "code",
   "execution_count": null,
   "id": "6881c40e-cfd3-4fa5-9c92-903a4eeebb90",
   "metadata": {},
   "outputs": [],
   "source": []
  }
 ],
 "metadata": {
  "kernelspec": {
   "display_name": "Python 3",
   "language": "python",
   "name": "python3"
  },
  "language_info": {
   "codemirror_mode": {
    "name": "ipython",
    "version": 3
   },
   "file_extension": ".py",
   "mimetype": "text/x-python",
   "name": "python",
   "nbconvert_exporter": "python",
   "pygments_lexer": "ipython3",
   "version": "3.8.6"
  }
 },
 "nbformat": 4,
 "nbformat_minor": 5
}
